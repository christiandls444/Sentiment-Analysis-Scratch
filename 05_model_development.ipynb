{
 "cells": [
  {
   "cell_type": "markdown",
   "metadata": {},
   "source": [
    "- Multinomial Naive Bayes\n",
    "\n",
    "- Support Vector Machine (SVM)\n",
    "\n",
    "- Bidirectional LSTM\n",
    "\n",
    "- BERT (Bidirectional Encoder Representations from Transformers)\n",
    "\n",
    "- Random Forest Classifier\n",
    "\n",
    "- Logistic Regression\n",
    "\n",
    "- XGBoost\n",
    "\n",
    "- CNN with Word Embeddings\n",
    "\n",
    "- Gated Recurrent Unit (GRU)\n",
    "\n",
    "- FastText"
   ]
  }
 ],
 "metadata": {
  "language_info": {
   "name": "python"
  },
  "orig_nbformat": 4
 },
 "nbformat": 4,
 "nbformat_minor": 2
}
