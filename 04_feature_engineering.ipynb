{
 "cells": [
  {
   "cell_type": "markdown",
   "metadata": {},
   "source": [
    "# Feature Engineering"
   ]
  },
  {
   "cell_type": "code",
   "execution_count": 1,
   "metadata": {},
   "outputs": [],
   "source": [
    "import pandas as pd\n",
    "pd.set_option('display.max_colwidth', None)"
   ]
  },
  {
   "cell_type": "code",
   "execution_count": 2,
   "metadata": {},
   "outputs": [
    {
     "data": {
      "text/html": [
       "<div>\n",
       "<style scoped>\n",
       "    .dataframe tbody tr th:only-of-type {\n",
       "        vertical-align: middle;\n",
       "    }\n",
       "\n",
       "    .dataframe tbody tr th {\n",
       "        vertical-align: top;\n",
       "    }\n",
       "\n",
       "    .dataframe thead th {\n",
       "        text-align: right;\n",
       "    }\n",
       "</style>\n",
       "<table border=\"1\" class=\"dataframe\">\n",
       "  <thead>\n",
       "    <tr style=\"text-align: right;\">\n",
       "      <th></th>\n",
       "      <th>corpus_name</th>\n",
       "      <th>raw_sentence</th>\n",
       "      <th>clean_text</th>\n",
       "      <th>textblob_polarity</th>\n",
       "      <th>sentiment_textblob</th>\n",
       "    </tr>\n",
       "  </thead>\n",
       "  <tbody>\n",
       "    <tr>\n",
       "      <th>440404</th>\n",
       "      <td>sentiment140</td>\n",
       "      <td>@liiaszta abisan si brian nge-reply ke nicky nyebut2 westlife li hehehe iya kno ya dia harus keluar</td>\n",
       "      <td>abisan si brian nge reply ke nicky nyebut westlife li hehehe iya kno ya dia harus keluar</td>\n",
       "      <td>0.00</td>\n",
       "      <td>Neutral</td>\n",
       "    </tr>\n",
       "    <tr>\n",
       "      <th>382527</th>\n",
       "      <td>sentiment140</td>\n",
       "      <td>waiting for @shanedawson 's tweets</td>\n",
       "      <td>waiting tweet</td>\n",
       "      <td>0.00</td>\n",
       "      <td>Neutral</td>\n",
       "    </tr>\n",
       "    <tr>\n",
       "      <th>1228749</th>\n",
       "      <td>sentiment140</td>\n",
       "      <td>@mgmyself Doing great, beautiful, thank you  I do have a lot of work to do, but sort of conflicted as to what to tackle first.</td>\n",
       "      <td>great beautiful thank lot work sort conflicted tackle first</td>\n",
       "      <td>0.63</td>\n",
       "      <td>Positive</td>\n",
       "    </tr>\n",
       "    <tr>\n",
       "      <th>1649840</th>\n",
       "      <td>sentiment140</td>\n",
       "      <td>good morning to you, good morning to you--we're all in our places with bright shining faces...Good morning tweeters!</td>\n",
       "      <td>good morning place bright shining face tweeter</td>\n",
       "      <td>0.70</td>\n",
       "      <td>Positive</td>\n",
       "    </tr>\n",
       "    <tr>\n",
       "      <th>840313</th>\n",
       "      <td>sentiment140</td>\n",
       "      <td>I will never again go to see a movie without first reading matt mungle's review. Transformers...</td>\n",
       "      <td>never go see movie without first reading matt mungle review transformer</td>\n",
       "      <td>0.25</td>\n",
       "      <td>Moderately Positive</td>\n",
       "    </tr>\n",
       "    <tr>\n",
       "      <th>1411533</th>\n",
       "      <td>sentiment140</td>\n",
       "      <td>@IDRtakeover bahaha thanks pastor!! @joshohaire thanks!</td>\n",
       "      <td>bahaha thanks pastor</td>\n",
       "      <td>0.20</td>\n",
       "      <td>Moderately Positive</td>\n",
       "    </tr>\n",
       "    <tr>\n",
       "      <th>1058423</th>\n",
       "      <td>sentiment140</td>\n",
       "      <td>@5toSucceed  wheres my present?</td>\n",
       "      <td>wheres present</td>\n",
       "      <td>0.00</td>\n",
       "      <td>Neutral</td>\n",
       "    </tr>\n",
       "    <tr>\n",
       "      <th>180627</th>\n",
       "      <td>sentiment140</td>\n",
       "      <td>I hate daytime telly! And theres nothing to eat.And Jenni put me in the mood for a pizza</td>\n",
       "      <td>hate daytime telly there nothing eat jenni put mood pizza</td>\n",
       "      <td>-0.80</td>\n",
       "      <td>Negative</td>\n",
       "    </tr>\n",
       "    <tr>\n",
       "      <th>880910</th>\n",
       "      <td>sentiment140</td>\n",
       "      <td>Good night everyone! See u at the pool</td>\n",
       "      <td>good night everyone see pool</td>\n",
       "      <td>0.70</td>\n",
       "      <td>Positive</td>\n",
       "    </tr>\n",
       "    <tr>\n",
       "      <th>262452</th>\n",
       "      <td>sentiment140</td>\n",
       "      <td>Needs a little trip , Orlando maybe , wish I could see my family and dog in GA</td>\n",
       "      <td>need little trip orlando maybe wish could see family dog ga</td>\n",
       "      <td>-0.19</td>\n",
       "      <td>Moderately Negative</td>\n",
       "    </tr>\n",
       "  </tbody>\n",
       "</table>\n",
       "</div>"
      ],
      "text/plain": [
       "          corpus_name  \\\n",
       "440404   sentiment140   \n",
       "382527   sentiment140   \n",
       "1228749  sentiment140   \n",
       "1649840  sentiment140   \n",
       "840313   sentiment140   \n",
       "1411533  sentiment140   \n",
       "1058423  sentiment140   \n",
       "180627   sentiment140   \n",
       "880910   sentiment140   \n",
       "262452   sentiment140   \n",
       "\n",
       "                                                                                                                           raw_sentence  \\\n",
       "440404                             @liiaszta abisan si brian nge-reply ke nicky nyebut2 westlife li hehehe iya kno ya dia harus keluar    \n",
       "382527                                                                                              waiting for @shanedawson 's tweets    \n",
       "1228749  @mgmyself Doing great, beautiful, thank you  I do have a lot of work to do, but sort of conflicted as to what to tackle first.   \n",
       "1649840           good morning to you, good morning to you--we're all in our places with bright shining faces...Good morning tweeters!    \n",
       "840313                                I will never again go to see a movie without first reading matt mungle's review. Transformers...    \n",
       "1411533                                                                        @IDRtakeover bahaha thanks pastor!! @joshohaire thanks!    \n",
       "1058423                                                                                                @5toSucceed  wheres my present?    \n",
       "180627                                        I hate daytime telly! And theres nothing to eat.And Jenni put me in the mood for a pizza    \n",
       "880910                                                                                          Good night everyone! See u at the pool    \n",
       "262452                                                  Needs a little trip , Orlando maybe , wish I could see my family and dog in GA    \n",
       "\n",
       "                                                                                       clean_text  \\\n",
       "440404   abisan si brian nge reply ke nicky nyebut westlife li hehehe iya kno ya dia harus keluar   \n",
       "382527                                                                              waiting tweet   \n",
       "1228749                               great beautiful thank lot work sort conflicted tackle first   \n",
       "1649840                                            good morning place bright shining face tweeter   \n",
       "840313                    never go see movie without first reading matt mungle review transformer   \n",
       "1411533                                                                      bahaha thanks pastor   \n",
       "1058423                                                                            wheres present   \n",
       "180627                                  hate daytime telly there nothing eat jenni put mood pizza   \n",
       "880910                                                               good night everyone see pool   \n",
       "262452                                need little trip orlando maybe wish could see family dog ga   \n",
       "\n",
       "         textblob_polarity   sentiment_textblob  \n",
       "440404                0.00              Neutral  \n",
       "382527                0.00              Neutral  \n",
       "1228749               0.63             Positive  \n",
       "1649840               0.70             Positive  \n",
       "840313                0.25  Moderately Positive  \n",
       "1411533               0.20  Moderately Positive  \n",
       "1058423               0.00              Neutral  \n",
       "180627               -0.80             Negative  \n",
       "880910                0.70             Positive  \n",
       "262452               -0.19  Moderately Negative  "
      ]
     },
     "execution_count": 2,
     "metadata": {},
     "output_type": "execute_result"
    }
   ],
   "source": [
    "# Load \"sentiment_results.csv\" and display a random sample of 10 rows\n",
    "\n",
    "results_df = pd.read_csv('../dataset/sentiment_results.csv')\n",
    "results_df.sample(10)"
   ]
  },
  {
   "cell_type": "code",
   "execution_count": 3,
   "metadata": {},
   "outputs": [
    {
     "data": {
      "text/plain": [
       "sentiment_textblob\n",
       "Neutral                637477\n",
       "Moderately Positive    464854\n",
       "Positive               243252\n",
       "Moderately Negative    202678\n",
       "Negative               103233\n",
       "Name: count, dtype: int64"
      ]
     },
     "execution_count": 3,
     "metadata": {},
     "output_type": "execute_result"
    }
   ],
   "source": [
    "results_df[\"sentiment_textblob\"].value_counts()"
   ]
  },
  {
   "cell_type": "markdown",
   "metadata": {},
   "source": [
    "To address the imbalance, we will perform balancing by equalizing the counts across categories, ensuring that they have the same number of instances."
   ]
  },
  {
   "cell_type": "code",
   "execution_count": 4,
   "metadata": {},
   "outputs": [
    {
     "name": "stdout",
     "output_type": "stream",
     "text": [
      "sentiment_textblob\n",
      "Moderately Negative    103233\n",
      "Neutral                103233\n",
      "Positive               103233\n",
      "Moderately Positive    103233\n",
      "Negative               103233\n",
      "Name: count, dtype: int64\n"
     ]
    }
   ],
   "source": [
    "# Get the count of the \"Negative\" sentiment category\n",
    "negative_count = results_df[\"sentiment_textblob\"].value_counts()[\"Negative\"]\n",
    "\n",
    "# Sample 103,233 rows from each sentiment category\n",
    "balanced_df = pd.concat([\n",
    "    results_df[results_df[\"sentiment_textblob\"] == \"Neutral\"].sample(n=negative_count, random_state=42),\n",
    "    results_df[results_df[\"sentiment_textblob\"] == \"Moderately Positive\"].sample(n=negative_count, random_state=42),\n",
    "    results_df[results_df[\"sentiment_textblob\"] == \"Positive\"].sample(n=negative_count, random_state=42),\n",
    "    results_df[results_df[\"sentiment_textblob\"] == \"Moderately Negative\"].sample(n=negative_count, random_state=42),\n",
    "    results_df[results_df[\"sentiment_textblob\"] == \"Negative\"]\n",
    "])\n",
    "\n",
    "# Shuffle the rows of the balanced dataframe\n",
    "balanced_df = balanced_df.sample(frac=1, random_state=42).reset_index(drop=True)\n",
    "\n",
    "# Check the count of each sentiment category in the balanced dataframe\n",
    "print(balanced_df[\"sentiment_textblob\"].value_counts())"
   ]
  },
  {
   "cell_type": "code",
   "execution_count": 5,
   "metadata": {},
   "outputs": [],
   "source": [
    "import pandas as pd\n",
    "from sklearn.model_selection import train_test_split\n",
    "from sklearn.feature_extraction.text import TfidfVectorizer\n",
    "from sklearn.svm import SVC\n",
    "from sklearn.metrics import accuracy_score, classification_report"
   ]
  },
  {
   "cell_type": "code",
   "execution_count": 6,
   "metadata": {},
   "outputs": [],
   "source": [
    "X = balanced_df['clean_text']\n",
    "y = balanced_df['sentiment_textblob']\n",
    "X_train, X_test, y_train, y_test = train_test_split(X, y, test_size=0.2, random_state=42)"
   ]
  },
  {
   "cell_type": "code",
   "execution_count": 8,
   "metadata": {},
   "outputs": [],
   "source": []
  },
  {
   "cell_type": "code",
   "execution_count": 9,
   "metadata": {},
   "outputs": [],
   "source": []
  },
  {
   "cell_type": "code",
   "execution_count": null,
   "metadata": {},
   "outputs": [],
   "source": []
  },
  {
   "cell_type": "code",
   "execution_count": null,
   "metadata": {},
   "outputs": [],
   "source": []
  },
  {
   "cell_type": "code",
   "execution_count": null,
   "metadata": {},
   "outputs": [],
   "source": []
  },
  {
   "cell_type": "code",
   "execution_count": null,
   "metadata": {},
   "outputs": [],
   "source": []
  }
 ],
 "metadata": {
  "kernelspec": {
   "display_name": "Python 3",
   "language": "python",
   "name": "python3"
  },
  "language_info": {
   "codemirror_mode": {
    "name": "ipython",
    "version": 3
   },
   "file_extension": ".py",
   "mimetype": "text/x-python",
   "name": "python",
   "nbconvert_exporter": "python",
   "pygments_lexer": "ipython3",
   "version": "3.11.3"
  },
  "orig_nbformat": 4
 },
 "nbformat": 4,
 "nbformat_minor": 2
}
